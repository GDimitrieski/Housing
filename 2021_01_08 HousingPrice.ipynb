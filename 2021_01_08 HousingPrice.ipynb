{
 "cells": [
  {
   "cell_type": "code",
   "execution_count": 2,
   "metadata": {},
   "outputs": [],
   "source": [
    "import pandas as pd\n",
    "from sklearn.model_selection import train_test_split\n",
    "import numpy as np\n",
    "# Read the data\n",
    "X = pd.read_csv(\"Input/train.csv\", index_col='Id') \n",
    "X_test = pd.read_csv(\"Input/test.csv\", index_col='Id')\n",
    "\n",
    "# Remove rows with missing target, separate target from predictors\n",
    "X.dropna(axis=0, subset=['SalePrice'], inplace=True)\n",
    "y = X.SalePrice\n",
    "X.drop(['SalePrice'], axis=1, inplace=True)\n",
    "\n",
    "# To keep things simple, we'll drop columns with missing values\n",
    "cols_with_missing = [col for col in X.columns if X[col].isnull().any()] \n",
    "X.drop(cols_with_missing, axis=1, inplace=True)\n",
    "\n",
    "cols_with_missing = [col for col in X_test.columns if X_test[col].isnull().any()] \n",
    "X_test.drop(cols_with_missing, axis=1, inplace=True)\n",
    "\n",
    "# Break off validation set from training data\n",
    "X_train, X_valid, y_train, y_valid = train_test_split(X, y,\n",
    "                                                      train_size=0.8, test_size=0.2,\n",
    "                                                      random_state=0)"
   ]
  },
  {
   "cell_type": "code",
   "execution_count": 3,
   "metadata": {},
   "outputs": [
    {
     "data": {
      "text/plain": [
       "<seaborn.axisgrid.FacetGrid at 0x1995d5edaf0>"
      ]
     },
     "execution_count": 3,
     "metadata": {},
     "output_type": "execute_result"
    },
    {
     "data": {
      "image/png": "[encoded data removed]",
      "text/plain": [
       "<Figure size 360x360 with 1 Axes>"
      ]
     },
     "metadata": {
      "needs_background": "light"
     },
     "output_type": "display_data"
    }
   ],
   "source": [
    "#analysis of the depend valiable - SalePrice\n",
    "import seaborn as sns\n",
    "sns.displot(y_train,bins=30)\n"
   ]
  },
  {
   "cell_type": "code",
   "execution_count": 4,
   "metadata": {},
   "outputs": [],
   "source": [
    "#bootstrap random column indexes\n",
    "import random\n",
    "def randomize(sample,n):\n",
    "    return(random.sample(sample,n))"
   ]
  },
  {
   "cell_type": "code",
   "execution_count": 5,
   "metadata": {},
   "outputs": [],
   "source": [
    "#Encode columns with low cardinality and drop columns with high cardinality\n",
    "from sklearn.preprocessing import OneHotEncoder\n",
    "\n",
    "pd.set_option('display.max_columns', None)\n",
    "pd.set_option('display.max_rows', None)\n",
    "\n",
    "OHE = OneHotEncoder(handle_unknown='ignore',sparse=False)\n",
    "cols_obj = [col for col in X_train.columns if X_train[col].dtype=='object']\n",
    "cols_obj_low_card = [col for col in X_train[cols_obj].columns if X_train[col].nunique()<10]\n",
    "cols_obj_high_card = [col for col in X_train[cols_obj].columns if X_train[col].nunique()>=10]\n",
    "\n",
    "# print(X_train[cols_obj_low_card].head())\n",
    "OHX_train = pd.DataFrame(OHE.fit_transform(X_train[cols_obj_low_card]))\n",
    "OHX_train.columns = OHE.get_feature_names()\n",
    "OHX_train.index=X_train[cols_obj_low_card].index\n",
    "\n",
    "# print(OHX_train.head())\n",
    "\n",
    "# print(X_valid[cols_obj_low_card].head())\n",
    "OHX_valid= pd.DataFrame(OHE.transform(X_valid[cols_obj_low_card]))\n",
    "OHX_valid.columns = OHE.get_feature_names()\n",
    "OHX_valid.index = X_valid[cols_obj_low_card].index\n",
    "#print(OHX_valid.head())\n",
    "\n"
   ]
  },
  {
   "cell_type": "code",
   "execution_count": 6,
   "metadata": {},
   "outputs": [
    {
     "name": "stdout",
     "output_type": "stream",
     "text": [
      "(1168, 155) (292, 155)\n",
      "155\n",
      "155 17249.100022094568 155 [0, 1, 2, 3, 4, 5, 6, 7, 8, 9, 10, 11, 12, 13, 14, 15, 16, 17, 18, 19, 20, 21, 22, 23, 24, 25, 26, 27, 28, 29, 30, 31, 32, 33, 34, 35, 36, 37, 38, 39, 40, 41, 42, 43, 44, 45, 46, 47, 48, 49, 50, 51, 52, 53, 54, 55, 56, 57, 58, 59, 60, 61, 62, 63, 64, 65, 66, 67, 68, 69, 70, 71, 72, 73, 74, 75, 76, 77, 78, 79, 80, 81, 82, 83, 84, 85, 86, 87, 88, 89, 90, 91, 92, 93, 94, 95, 96, 97, 98, 99, 100, 101, 102, 103, 104, 105, 106, 107, 108, 109, 110, 111, 112, 113, 114, 115, 116, 117, 118, 119, 120, 121, 122, 123, 124, 125, 126, 127, 128, 129, 130, 131, 132, 133, 134, 135, 136, 137, 138, 139, 140, 141, 142, 143, 144, 145, 146, 147, 148, 149, 150, 151, 152, 153, 154]\n"
     ]
    }
   ],
   "source": [
    "from sklearn.preprocessing import StandardScaler \n",
    "from sklearn.ensemble import RandomForestRegressor\n",
    "from sklearn.metrics import mean_absolute_error\n",
    "\n",
    "stdsc = StandardScaler() \n",
    "\n",
    "## prepare training set\n",
    "cols_number = [col for col in X_train if X_train[col].dtype!='object']\n",
    "dfX_train_std = pd.DataFrame(stdsc.fit_transform(X_train[cols_number]))\n",
    "dfX_train_std.index=X_train[cols_number].index\n",
    "dfX_train_std.columns=X_train[cols_number].columns\n",
    "dfX_train=pd.concat([dfX_train_std,OHX_train], axis=1)\n",
    "\n",
    "dfX_valid_std = pd.DataFrame(stdsc.transform(X_valid[cols_number]))\n",
    "dfX_valid_std.index = X_valid[cols_number].index\n",
    "dfX_valid_std.columns = X_valid[cols_number].columns\n",
    "dfX_valid=pd.concat([dfX_valid_std,OHX_valid], axis=1)\n",
    "\n",
    "\n",
    "print(dfX_train.shape, dfX_valid.shape)\n",
    "\n",
    "num_features = len(dfX_train.columns)\n",
    "print(num_features)\n",
    "sample=list(range(0,num_features))\n",
    "min_mae=100000\n",
    "for j in range(num_features,num_features+1):   \n",
    "    for repeat in range(1):\n",
    "        #select j-random samples from samples\n",
    "        #selector=randomize(sample,j) \n",
    "        selector = sample\n",
    "        columns_selected = dfX_train.columns\n",
    "        #select the features from the train set\n",
    "        select_index=[True if i in selector else False for i in range(num_features)]\n",
    "        X_train_final = dfX_train.loc[:,select_index]\n",
    "        #X_train_std=dfX_train.loc[:,select_index]\n",
    "        \n",
    "        #select the features from the validation set\n",
    "        select_index=[True if i in selector else False for i in range(num_features)]\n",
    "        X_valid_final=dfX_valid.loc[:,select_index]\n",
    "        #X_valid_std=dfX_valid.loc[:,select_index]\n",
    "        \n",
    "        model = RandomForestRegressor(n_estimators=155,random_state=0,max_depth=30)\n",
    "        model.fit(X_train_final,y_train)\n",
    "        preds = model.predict(X_valid_final)\n",
    "        mae = mean_absolute_error(y_valid, preds)\n",
    "        if mae<min_mae:\n",
    "            min_mae=mae\n",
    "            best_features = selector\n",
    "        print(j,min_mae,len(best_features), best_features)\n",
    "           \n",
    "#Bruteforce best_features = [5, 20, 6, 22, 2, 29, 4, 3, 1, 10, 27, 19, 7, 9, 17, 33, 24, 23, 14, 12, 18, 25, 11, 28, 26, 30, 21, 13]"
   ]
  },
  {
   "cell_type": "code",
   "execution_count": null,
   "metadata": {},
   "outputs": [],
   "source": [
    "## Create a heatmap to visualize the correlation of features to target\n",
    "import matplotlib.pyplot as plt\n",
    "import numpy as np\n",
    "import seaborn as sns\n",
    "## select only the columns that are corelated to the target and make the pair plot\n",
    "# selector = [2,9,10,13,20,23,33]\n",
    "# selector=list(range(0,34))\n",
    "# select_index=[True if i in selector else False for i in range(34) ]\n",
    "# df_relevant = df.loc[:,select_index]\n",
    "# #sns.pairplot(df_relevant, height=2.0)\n",
    "#plt.savefig('RelevantFeatures.svg', format='svg', dpi=1200)\n",
    "#plt.show()\n",
    "dfY_scaled = y_train/np.max(y_train)\n",
    "sel = [True if i<(num_features/2) else False for i in range(0,num_features)]\n",
    "df_heatmap = pd.concat([X_train_final.loc[:,sel],dfY_scaled],axis=1)\n",
    "#print(dfX_heatmap.T)\n",
    "cov_mat =np.cov(df_heatmap.T)\n",
    "plt.figure(figsize=(50,50))\n",
    "sns.set(font_scale=1.5)\n",
    "hm = sns.heatmap(cov_mat,\n",
    "                 cbar=True,\n",
    "                 annot=True,\n",
    "                 square=True,\n",
    "                 fmt='.2f',\n",
    "                 annot_kws={'size': 12},\n",
    "                 cmap='coolwarm',                 \n",
    "                 yticklabels=df_heatmap.columns,\n",
    "                 xticklabels=df_heatmap.columns)\n",
    "plt.title('Covariance matrix showing correlation coefficients', size = 18)\n",
    "plt.tight_layout()\n",
    "plt.savefig('heatmap.svg', format='svg', dpi=1200)\n",
    "plt.show()"
   ]
  },
  {
   "cell_type": "markdown",
   "metadata": {},
   "source": [
    "# Save the tree as a png image\n",
    "from sklearn.tree import export_graphviz\n",
    "from sklearn.tree import export_graphviz\n",
    "import pydot\n",
    "\n",
    "tree_small = model.estimators_[20]\n",
    "export_graphviz(tree_small, out_file = 'small_tree.dot', feature_names = columns_selected, rounded = True, precision = 1)\n",
    "(graph, ) = pydot.graph_from_dot_file('small_tree.dot')\n",
    "graph.write_png('small_tree.png');\n",
    "print(columns_selected)"
   ]
  },
  {
   "cell_type": "markdown",
   "metadata": {},
   "source": [
    "## Train the model\n",
    "from sklearn.ensemble import RandomForestRegressor\n",
    "from sklearn.metrics import mean_absolute_error\n",
    "model = RandomForestRegressor(n_estimators=100,random_state=0)\n",
    "\n",
    "model.fit(X_std,y_train)\n",
    "\n",
    "#prepare the validation set in the same form\n",
    "X_valid_df=(pd.DataFrame(X_valid[cols]))\n",
    "selector = [2,9,10,13,20,23,33]\n",
    "selector=list(range(0,34))\n",
    "select_index=[True if i in selector else False for i in range(33)]\n",
    "\n",
    "X_valid_std=stdsc.fit_transform(X_valid_df.loc[:,select_index])\n",
    "\n",
    "#print(X_valid_std,X_std)\n",
    "\n",
    "#make predictions and get the error\n",
    "preds = model.predict(X_valid_std)\n",
    "print(mean_absolute_error(y_valid, preds))"
   ]
  },
  {
   "cell_type": "code",
   "execution_count": null,
   "metadata": {},
   "outputs": [],
   "source": []
  },
  {
   "cell_type": "code",
   "execution_count": null,
   "metadata": {},
   "outputs": [],
   "source": []
  }
 ],
 "metadata": {
  "kernelspec": {
   "display_name": "Python 3",
   "language": "python",
   "name": "python3"
  },
  "language_info": {
   "codemirror_mode": {
    "name": "ipython",
    "version": 3
   },
   "file_extension": ".py",
   "mimetype": "text/x-python",
   "name": "python",
   "nbconvert_exporter": "python",
   "pygments_lexer": "ipython3",
   "version": "3.8.5"
  }
 },
 "nbformat": 4,
 "nbformat_minor": 4
}
